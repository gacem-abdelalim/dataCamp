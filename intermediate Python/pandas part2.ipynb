{
 "cells": [
  {
   "cell_type": "code",
   "execution_count": 1,
   "metadata": {},
   "outputs": [
    {
     "name": "stdout",
     "output_type": "stream",
     "text": [
      "US     United States\n",
      "AUS        Australia\n",
      "JPN            Japan\n",
      "IN             India\n",
      "RU            Russia\n",
      "MOR          Morocco\n",
      "EG             Egypt\n",
      "Name: country, dtype: object\n",
      "           country\n",
      "US   United States\n",
      "AUS      Australia\n",
      "JPN          Japan\n",
      "IN           India\n",
      "RU          Russia\n",
      "MOR        Morocco\n",
      "EG           Egypt\n",
      "           country  drives_right\n",
      "US   United States          True\n",
      "AUS      Australia         False\n",
      "JPN          Japan         False\n",
      "IN           India         False\n",
      "RU          Russia          True\n",
      "MOR        Morocco          True\n",
      "EG           Egypt          True\n"
     ]
    }
   ],
   "source": [
    "# Import cars data\n",
    "import pandas as pd\n",
    "cars = pd.read_csv('cars.csv', index_col = 0)\n",
    "\n",
    "# Print out country column as Pandas Series\n",
    "print(cars['country'])\n",
    "\n",
    "# Print out country column as Pandas DataFrame\n",
    "print(cars[['country']])\n",
    "\n",
    "# Print out DataFrame with country and drives_right columns\n",
    "print(cars[['country','drives_right']])"
   ]
  },
  {
   "cell_type": "code",
   "execution_count": null,
   "metadata": {},
   "outputs": [],
   "source": [
    "#row = observation = ligne\n",
    "\n",
    "# Print out first 3 observations\n",
    "print(cars[:3])\n",
    "\n",
    "# Print out fourth, fifth and sixth observation\n",
    "print(cars[3:6])\n",
    "\n",
    "# Print out observation for Japan\n",
    "print(cars.loc['JPN'])\n",
    "\n",
    "# Print out observations for Australia and Egypt\n",
    "print(cars.iloc[[1, -1],:])\n",
    "\n",
    "# Print out drives_right value of Morocco\n",
    "print(cars.loc[['MOR'],[\"drives_right\"]])\n",
    "\n",
    "# Print sub-DataFrame\n",
    "print(cars.iloc[4:6,1:])\n",
    "\n",
    "# Print out drives_right column as Series\n",
    "print(cars.loc[:,\"drives_right\"])\n",
    "\n",
    "# Print out drives_right column as DataFrame\n",
    "print(cars.loc[:,[\"drives_right\"]])\n",
    "\n",
    "# Print out cars_per_cap and drives_right as DataFrame\n",
    "print(cars.iloc[:,[0,2]])"
   ]
  },
  {
   "cell_type": "code",
   "execution_count": 2,
   "metadata": {},
   "outputs": [
    {
     "data": {
      "text/plain": [
       "(7, 3)"
      ]
     },
     "execution_count": 2,
     "metadata": {},
     "output_type": "execute_result"
    }
   ],
   "source": [
    "cars.shape"
   ]
  },
  {
   "cell_type": "code",
   "execution_count": null,
   "metadata": {},
   "outputs": [],
   "source": []
  }
 ],
 "metadata": {
  "kernelspec": {
   "display_name": "base",
   "language": "python",
   "name": "python3"
  },
  "language_info": {
   "codemirror_mode": {
    "name": "ipython",
    "version": 3
   },
   "file_extension": ".py",
   "mimetype": "text/x-python",
   "name": "python",
   "nbconvert_exporter": "python",
   "pygments_lexer": "ipython3",
   "version": "3.9.12"
  },
  "orig_nbformat": 4
 },
 "nbformat": 4,
 "nbformat_minor": 2
}
